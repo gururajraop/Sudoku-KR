{
 "cells": [
  {
   "cell_type": "code",
   "execution_count": 1,
   "metadata": {
    "collapsed": true
   },
   "outputs": [],
   "source": [
    "import pycosat\n",
    "import numpy as np"
   ]
  },
  {
   "cell_type": "code",
   "execution_count": 2,
   "metadata": {
    "collapsed": true
   },
   "outputs": [],
   "source": [
    "def sudoku_names(Dim):\n",
    "    names = np.zeros([Dim,Dim,Dim], dtype = np.int)\n",
    "\n",
    "    for i in range(Dim):\n",
    "        for j in range(Dim):\n",
    "            for k in range(Dim):\n",
    "                names[i][j][k] = (i * Dim * Dim) + (j * Dim) + k +1\n",
    "    return names"
   ]
  },
  {
   "cell_type": "code",
   "execution_count": 3,
   "metadata": {
    "collapsed": true
   },
   "outputs": [],
   "source": [
    "def encode_at_most_one(names):\n",
    "    encode = []\n",
    "    for i in range(len(names)):\n",
    "        for j in range(i+1, len(names)):\n",
    "            arr = [-1*names[i], -1*names[j]]\n",
    "            encode.insert(0, arr)\n",
    "    return encode"
   ]
  },
  {
   "cell_type": "code",
   "execution_count": 4,
   "metadata": {
    "collapsed": true
   },
   "outputs": [],
   "source": [
    "def encode_at_least_one(names):\n",
    "    return [names]"
   ]
  },
  {
   "cell_type": "code",
   "execution_count": 5,
   "metadata": {
    "collapsed": true
   },
   "outputs": [],
   "source": [
    "def encode_exactly_one(names):\n",
    "    encode = []\n",
    "    at_most_one = encode_at_most_one(names)\n",
    "    at_least_one = encode_at_least_one(names)\n",
    "    encode.extend(at_least_one)\n",
    "    encode.extend(at_most_one)\n",
    "    return encode"
   ]
  },
  {
   "cell_type": "code",
   "execution_count": 6,
   "metadata": {
    "collapsed": true
   },
   "outputs": [],
   "source": [
    "#add constrains\n",
    "def encode_constraints(sudoku, Dim, names):\n",
    "    encode = []\n",
    "    for row in range(Dim):\n",
    "        for column in range(Dim):\n",
    "            if (sudoku[row,column] != 0):\n",
    "                arr = [names[row,column, sudoku[row,column]-1].tolist()]\n",
    "                encode.insert(0, arr)            \n",
    "    return encode"
   ]
  },
  {
   "cell_type": "code",
   "execution_count": 7,
   "metadata": {
    "collapsed": true
   },
   "outputs": [],
   "source": [
    "def isSquare(number):\n",
    "    if (np.sqrt(number)-int(np.sqrt(number))):\n",
    "        return False\n",
    "    else:\n",
    "        return True"
   ]
  },
  {
   "cell_type": "code",
   "execution_count": 8,
   "metadata": {
    "collapsed": true
   },
   "outputs": [],
   "source": [
    "def get_block_positions(Dim):\n",
    "    block_size = int(np.sqrt(Dim))\n",
    "    block_positions = np.zeros([block_size], dtype = int)\n",
    "    for pos in range(block_size):\n",
    "        block_positions[pos] = block_size * pos\n",
    "    \n",
    "    return block_positions"
   ]
  },
  {
   "cell_type": "code",
   "execution_count": 9,
   "metadata": {
    "collapsed": true
   },
   "outputs": [],
   "source": [
    "def encode_sudoku(sudoku, Dim):\n",
    "    names = sudoku_names(Dim)\n",
    "    encode = []\n",
    "    constraints = encode_constraints(sudoku, Dim, names)\n",
    "    encode.extend(constraints)\n",
    "    \n",
    "    #for each cell, exactly one value\n",
    "    for row in range(Dim):\n",
    "        for column in range(Dim):\n",
    "            cell_poss_values = names[row, column, :]\n",
    "            cell_encode =  encode_exactly_one(cell_poss_values.tolist())\n",
    "            encode.extend(cell_encode)\n",
    "            \n",
    "    #for each row, for each value, only one is true\n",
    "    for row in range(Dim):\n",
    "        for value in range(Dim):\n",
    "            row_poss_values = names[row, :, value]\n",
    "            row_encode = encode_exactly_one(row_poss_values.tolist())\n",
    "            encode.extend(row_encode)\n",
    "    \n",
    "    #for each column, for each value, only one is true\n",
    "    for column in range(Dim):\n",
    "        for value in range(Dim):\n",
    "            column_poss_values = names[:, column, value]\n",
    "            column_encode = encode_exactly_one(column_poss_values.tolist())\n",
    "            encode.extend(column_encode)\n",
    "    \n",
    "    #for each block, for each value, only one is true\n",
    "    if isSquare(Dim):\n",
    "        block_pos = get_block_positions(Dim)\n",
    "        for row in block_pos:\n",
    "            for column in block_pos:\n",
    "                for value in range(Dim):\n",
    "                    block_poss_values = names[row:row+block_pos[1], column:column+block_pos[1], value].flatten()\n",
    "                    block_encode = encode_exactly_one(block_poss_values.tolist())\n",
    "                    encode.extend(block_encode)\n",
    "    \n",
    "    return encode"
   ]
  },
  {
   "cell_type": "code",
   "execution_count": null,
   "metadata": {
    "collapsed": true
   },
   "outputs": [],
   "source": [
    "def decode_sudoku(solution, Dim):\n",
    "    names = sudoku_names(Dim)\n",
    "    sudoku = np.zeros([Dim, Dim], dtype = np.int)\n",
    "    indexes = []\n",
    "    for el in solution:\n",
    "        if el > 0:\n",
    "            index = np.where(names == el)\n",
    "            for num in index:\n",
    "                sudoku[index[0], index[1]] = index[2]+1\n",
    "   \n",
    "    print(sudoku)\n",
    "   "
   ]
  },
  {
   "cell_type": "code",
   "execution_count": null,
   "metadata": {
    "collapsed": true
   },
   "outputs": [],
   "source": [
    "#s_test = np.array([[0,0], [1,0]])\n",
    "\n",
    "#s_test = np.array([[3,4,1,0],\n",
    "#                  [0,2,0,0],\n",
    "#                  [0,0,2,0],\n",
    "#                  [0,1,4,3]])\n",
    "\n",
    "s_test = np.array([ [0,6,0,0,0,0,0,1,0],\n",
    "                    [0,0,3,0,8,6,5,0,0],\n",
    "                    [7,0,0,0,0,1,0,0,9],\n",
    "                    [5,0,0,0,2,0,0,0,6],\n",
    "                    [0,0,0,1,5,3,0,0,0],\n",
    "                    [9,0,0,0,7,0,0,0,1],\n",
    "                    [4,0,0,0,0,9,0,0,7],\n",
    "                    [0,0,9,0,6,7,3,0,0],\n",
    "                    [0,5,0,0,0,0,0,9,0]])\n",
    "Dim = len(s_test[0])\n",
    "\n",
    "encode = encode_sudoku(s_test, Dim)\n",
    "solution = pycosat.solve(encode)\n",
    "#print(solution)\n",
    "#print(encode)\n",
    "decode_sudoku(solution, Dim)\n"
   ]
  },
  {
   "cell_type": "code",
   "execution_count": null,
   "metadata": {
    "collapsed": true
   },
   "outputs": [],
   "source": []
  },
  {
   "cell_type": "code",
   "execution_count": null,
   "metadata": {
    "collapsed": true
   },
   "outputs": [],
   "source": []
  },
  {
   "cell_type": "code",
   "execution_count": null,
   "metadata": {
    "collapsed": true
   },
   "outputs": [],
   "source": []
  },
  {
   "cell_type": "code",
   "execution_count": null,
   "metadata": {
    "collapsed": true
   },
   "outputs": [],
   "source": []
  },
  {
   "cell_type": "code",
   "execution_count": null,
   "metadata": {
    "collapsed": true
   },
   "outputs": [],
   "source": []
  },
  {
   "cell_type": "code",
   "execution_count": null,
   "metadata": {
    "collapsed": true
   },
   "outputs": [],
   "source": [
    "\n",
    "    "
   ]
  }
 ],
 "metadata": {
  "kernelspec": {
   "display_name": "Python 3",
   "language": "python",
   "name": "python3"
  },
  "language_info": {
   "codemirror_mode": {
    "name": "ipython",
    "version": 3
   },
   "file_extension": ".py",
   "mimetype": "text/x-python",
   "name": "python",
   "nbconvert_exporter": "python",
   "pygments_lexer": "ipython3",
   "version": "3.6.2"
  }
 },
 "nbformat": 4,
 "nbformat_minor": 2
}
